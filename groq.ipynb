{
 "cells": [
  {
   "cell_type": "code",
   "execution_count": null,
   "id": "695626ed-591f-41d6-a854-7f2ae75c394b",
   "metadata": {},
   "outputs": [
    {
     "name": "stdout",
     "output_type": "stream",
     "text": [
      "The rainbow color is a beautiful and iconic phenomenon that occurs when sunlight passes through water droplets in the air. The colors of the rainbow, often remembered using the acronym ROYGBIV, are:\n",
      "\n",
      "1. **R**ed\n",
      "2. **O**range\n",
      "3. **Y**ellow\n",
      "4. **G**reen\n",
      "5. **B**lue\n",
      "6. **I**ndigo\n",
      "7. **V**iolet\n",
      "\n",
      "These colors always appear in the same order: Red, Orange, Yellow, Green, Blue, Indigo, and Violet. The colors of the rainbow are a result of a process called dispersion, where the different wavelengths of light are refracted (or bent) at slightly different angles as they pass through the water droplets.\n",
      "\n",
      "Here's a brief explanation of each color:\n",
      "\n",
      "* **Red**: longest wavelength (approximately 620-750 nanometers)\n",
      "* **Orange**: 590-620 nanometers\n",
      "* **Yellow**: 570-590 nanometers\n",
      "* **Green**: 520-570 nanometers\n",
      "* **Blue**: 450-520 nanometers\n",
      "* **Indigo**: 420-450 nanometers\n",
      "* **Violet**: shortest wavelength (approximately 400-420 nanometers)\n",
      "\n",
      "The rainbow color is often seen as an arc of color in the sky, typically after a rain shower or near a waterfall or mist. It's a breathtaking natural wonder that never fails to inspire awe and delight!\n"
     ]
    }
   ],
   "source": [
    "from langchain_groq import ChatGroq\n",
    "\n",
    "llm = ChatGroq(\n",
    "    model=\"meta-llama/llama-4-scout-17b-16e-instruct\",\n",
    "    temperature=0,\n",
    "    groq_api_key = \"you api key here\"\n",
    "    # other params...\n",
    ")\n",
    "response = llm.invoke(\"what is rainbow color\")\n",
    "print(response.content)"
   ]
  },
  {
   "cell_type": "code",
   "execution_count": null,
   "id": "b54306ab",
   "metadata": {},
   "outputs": [],
   "source": []
  }
 ],
 "metadata": {
  "kernelspec": {
   "display_name": "base",
   "language": "python",
   "name": "python3"
  },
  "language_info": {
   "codemirror_mode": {
    "name": "ipython",
    "version": 3
   },
   "file_extension": ".py",
   "mimetype": "text/x-python",
   "name": "python",
   "nbconvert_exporter": "python",
   "pygments_lexer": "ipython3",
   "version": "3.13.5"
  }
 },
 "nbformat": 4,
 "nbformat_minor": 5
}
